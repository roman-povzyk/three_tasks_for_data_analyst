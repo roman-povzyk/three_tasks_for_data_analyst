{
 "cells": [
  {
   "cell_type": "markdown",
   "metadata": {},
   "source": [
    " ## 1. Условие задачи"
   ]
  },
  {
   "cell_type": "markdown",
   "metadata": {},
   "source": [
    "### 1.1. Вводные данные: \n",
    "Дана динамика покупки пользователями платных подписок в мобильном приложении с марта по октябрь 2018 года. 1 октября 2018 года вышла новая версия приложения. С 10.10.18 по 12.10.18 пользователи могли оформить подписку со скидкой. \n",
    "\n",
    "Задача: \n",
    "Необходимо проанализировать рост выручки. Результат оформить в виде краткого отчета с визуализацией данных."
   ]
  },
  {
   "cell_type": "markdown",
   "metadata": {},
   "source": [
    "### 1.2. Задача: \n",
    "Необходимо проанализировать рост выручки. Результат оформить в виде краткого отчета с визуализацией данных."
   ]
  },
  {
   "cell_type": "markdown",
   "metadata": {},
   "source": [
    "## 2. Подготовка данных"
   ]
  },
  {
   "cell_type": "markdown",
   "metadata": {},
   "source": [
    "### 2.1. Подгружаем библиотеки, которые будем использовать в процессе работы."
   ]
  },
  {
   "cell_type": "code",
   "execution_count": 102,
   "metadata": {},
   "outputs": [],
   "source": [
    "import numpy as np\n",
    "import pandas as pd\n",
    "import matplotlib.pyplot as plt\n",
    "from datetime import datetime"
   ]
  },
  {
   "cell_type": "markdown",
   "metadata": {},
   "source": [
    "### 2.2. Выгружаем данные из файла и смотрим на них"
   ]
  },
  {
   "cell_type": "code",
   "execution_count": 103,
   "metadata": {},
   "outputs": [
    {
     "data": {
      "text/html": [
       "<div>\n",
       "<style scoped>\n",
       "    .dataframe tbody tr th:only-of-type {\n",
       "        vertical-align: middle;\n",
       "    }\n",
       "\n",
       "    .dataframe tbody tr th {\n",
       "        vertical-align: top;\n",
       "    }\n",
       "\n",
       "    .dataframe thead th {\n",
       "        text-align: right;\n",
       "    }\n",
       "</style>\n",
       "<table border=\"1\" class=\"dataframe\">\n",
       "  <thead>\n",
       "    <tr style=\"text-align: right;\">\n",
       "      <th></th>\n",
       "      <th>Date</th>\n",
       "      <th>Revenue ($)</th>\n",
       "    </tr>\n",
       "  </thead>\n",
       "  <tbody>\n",
       "    <tr>\n",
       "      <th>0</th>\n",
       "      <td>01.03.2018</td>\n",
       "      <td>7878261.0</td>\n",
       "    </tr>\n",
       "    <tr>\n",
       "      <th>1</th>\n",
       "      <td>02.03.2018</td>\n",
       "      <td>7995176.0</td>\n",
       "    </tr>\n",
       "    <tr>\n",
       "      <th>2</th>\n",
       "      <td>03.03.2018</td>\n",
       "      <td>9887822.0</td>\n",
       "    </tr>\n",
       "    <tr>\n",
       "      <th>3</th>\n",
       "      <td>04.03.2018</td>\n",
       "      <td>10067265.0</td>\n",
       "    </tr>\n",
       "    <tr>\n",
       "      <th>4</th>\n",
       "      <td>05.03.2018</td>\n",
       "      <td>9018922.0</td>\n",
       "    </tr>\n",
       "  </tbody>\n",
       "</table>\n",
       "</div>"
      ],
      "text/plain": [
       "         Date  Revenue ($)\n",
       "0  01.03.2018    7878261.0\n",
       "1  02.03.2018    7995176.0\n",
       "2  03.03.2018    9887822.0\n",
       "3  04.03.2018   10067265.0\n",
       "4  05.03.2018    9018922.0"
      ]
     },
     "execution_count": 103,
     "metadata": {},
     "output_type": "execute_result"
    }
   ],
   "source": [
    "data_for_task_1 = pd.read_csv('data/Data_Analyst_1.csv', sep = ';')\n",
    "data_for_task_1.head()"
   ]
  },
  {
   "cell_type": "code",
   "execution_count": 104,
   "metadata": {},
   "outputs": [
    {
     "name": "stdout",
     "output_type": "stream",
     "text": [
      "<class 'pandas.core.frame.DataFrame'>\n",
      "RangeIndex: 246 entries, 0 to 245\n",
      "Data columns (total 2 columns):\n",
      " #   Column       Non-Null Count  Dtype  \n",
      "---  ------       --------------  -----  \n",
      " 0   Date         245 non-null    object \n",
      " 1   Revenue ($)  245 non-null    float64\n",
      "dtypes: float64(1), object(1)\n",
      "memory usage: 4.0+ KB\n"
     ]
    }
   ],
   "source": [
    "data_for_task_1.info()"
   ]
  },
  {
   "cell_type": "code",
   "execution_count": 105,
   "metadata": {},
   "outputs": [
    {
     "data": {
      "text/html": [
       "<div>\n",
       "<style scoped>\n",
       "    .dataframe tbody tr th:only-of-type {\n",
       "        vertical-align: middle;\n",
       "    }\n",
       "\n",
       "    .dataframe tbody tr th {\n",
       "        vertical-align: top;\n",
       "    }\n",
       "\n",
       "    .dataframe thead th {\n",
       "        text-align: right;\n",
       "    }\n",
       "</style>\n",
       "<table border=\"1\" class=\"dataframe\">\n",
       "  <thead>\n",
       "    <tr style=\"text-align: right;\">\n",
       "      <th></th>\n",
       "      <th>Revenue ($)</th>\n",
       "    </tr>\n",
       "  </thead>\n",
       "  <tbody>\n",
       "    <tr>\n",
       "      <th>count</th>\n",
       "      <td>2.450000e+02</td>\n",
       "    </tr>\n",
       "    <tr>\n",
       "      <th>mean</th>\n",
       "      <td>7.158634e+06</td>\n",
       "    </tr>\n",
       "    <tr>\n",
       "      <th>std</th>\n",
       "      <td>1.519511e+06</td>\n",
       "    </tr>\n",
       "    <tr>\n",
       "      <th>min</th>\n",
       "      <td>1.978644e+06</td>\n",
       "    </tr>\n",
       "    <tr>\n",
       "      <th>25%</th>\n",
       "      <td>6.153417e+06</td>\n",
       "    </tr>\n",
       "    <tr>\n",
       "      <th>50%</th>\n",
       "      <td>6.827791e+06</td>\n",
       "    </tr>\n",
       "    <tr>\n",
       "      <th>75%</th>\n",
       "      <td>8.034122e+06</td>\n",
       "    </tr>\n",
       "    <tr>\n",
       "      <th>max</th>\n",
       "      <td>1.524611e+07</td>\n",
       "    </tr>\n",
       "  </tbody>\n",
       "</table>\n",
       "</div>"
      ],
      "text/plain": [
       "        Revenue ($)\n",
       "count  2.450000e+02\n",
       "mean   7.158634e+06\n",
       "std    1.519511e+06\n",
       "min    1.978644e+06\n",
       "25%    6.153417e+06\n",
       "50%    6.827791e+06\n",
       "75%    8.034122e+06\n",
       "max    1.524611e+07"
      ]
     },
     "execution_count": 105,
     "metadata": {},
     "output_type": "execute_result"
    }
   ],
   "source": [
    "data_for_task_1.describe()"
   ]
  },
  {
   "cell_type": "code",
   "execution_count": 106,
   "metadata": {},
   "outputs": [
    {
     "data": {
      "text/plain": [
       "0       7878261.0\n",
       "1       7995176.0\n",
       "2       9887822.0\n",
       "3      10067265.0\n",
       "4       9018922.0\n",
       "          ...    \n",
       "241     6911239.0\n",
       "242     6971250.0\n",
       "243     6870345.0\n",
       "244     7780850.0\n",
       "245           NaN\n",
       "Name: Revenue ($), Length: 246, dtype: float64"
      ]
     },
     "execution_count": 106,
     "metadata": {},
     "output_type": "execute_result"
    }
   ],
   "source": [
    "data_for_task_1['Revenue ($)']"
   ]
  },
  {
   "cell_type": "code",
   "execution_count": 107,
   "metadata": {},
   "outputs": [
    {
     "data": {
      "text/html": [
       "<div>\n",
       "<style scoped>\n",
       "    .dataframe tbody tr th:only-of-type {\n",
       "        vertical-align: middle;\n",
       "    }\n",
       "\n",
       "    .dataframe tbody tr th {\n",
       "        vertical-align: top;\n",
       "    }\n",
       "\n",
       "    .dataframe thead th {\n",
       "        text-align: right;\n",
       "    }\n",
       "</style>\n",
       "<table border=\"1\" class=\"dataframe\">\n",
       "  <thead>\n",
       "    <tr style=\"text-align: right;\">\n",
       "      <th></th>\n",
       "      <th>Date</th>\n",
       "      <th>Revenue ($)</th>\n",
       "    </tr>\n",
       "  </thead>\n",
       "  <tbody>\n",
       "    <tr>\n",
       "      <th>0</th>\n",
       "      <td>01.03.2018</td>\n",
       "      <td>7878261.0</td>\n",
       "    </tr>\n",
       "    <tr>\n",
       "      <th>1</th>\n",
       "      <td>02.03.2018</td>\n",
       "      <td>7995176.0</td>\n",
       "    </tr>\n",
       "    <tr>\n",
       "      <th>2</th>\n",
       "      <td>03.03.2018</td>\n",
       "      <td>9887822.0</td>\n",
       "    </tr>\n",
       "    <tr>\n",
       "      <th>3</th>\n",
       "      <td>04.03.2018</td>\n",
       "      <td>10067265.0</td>\n",
       "    </tr>\n",
       "    <tr>\n",
       "      <th>4</th>\n",
       "      <td>05.03.2018</td>\n",
       "      <td>9018922.0</td>\n",
       "    </tr>\n",
       "    <tr>\n",
       "      <th>...</th>\n",
       "      <td>...</td>\n",
       "      <td>...</td>\n",
       "    </tr>\n",
       "    <tr>\n",
       "      <th>241</th>\n",
       "      <td>28.10.2018</td>\n",
       "      <td>6911239.0</td>\n",
       "    </tr>\n",
       "    <tr>\n",
       "      <th>242</th>\n",
       "      <td>29.10.2018</td>\n",
       "      <td>6971250.0</td>\n",
       "    </tr>\n",
       "    <tr>\n",
       "      <th>243</th>\n",
       "      <td>30.10.2018</td>\n",
       "      <td>6870345.0</td>\n",
       "    </tr>\n",
       "    <tr>\n",
       "      <th>244</th>\n",
       "      <td>31.10.2018</td>\n",
       "      <td>7780850.0</td>\n",
       "    </tr>\n",
       "    <tr>\n",
       "      <th>245</th>\n",
       "      <td>NaN</td>\n",
       "      <td>NaN</td>\n",
       "    </tr>\n",
       "  </tbody>\n",
       "</table>\n",
       "<p>246 rows × 2 columns</p>\n",
       "</div>"
      ],
      "text/plain": [
       "           Date  Revenue ($)\n",
       "0    01.03.2018    7878261.0\n",
       "1    02.03.2018    7995176.0\n",
       "2    03.03.2018    9887822.0\n",
       "3    04.03.2018   10067265.0\n",
       "4    05.03.2018    9018922.0\n",
       "..          ...          ...\n",
       "241  28.10.2018    6911239.0\n",
       "242  29.10.2018    6971250.0\n",
       "243  30.10.2018    6870345.0\n",
       "244  31.10.2018    7780850.0\n",
       "245         NaN          NaN\n",
       "\n",
       "[246 rows x 2 columns]"
      ]
     },
     "execution_count": 107,
     "metadata": {},
     "output_type": "execute_result"
    }
   ],
   "source": [
    "data_for_task_1"
   ]
  },
  {
   "cell_type": "code",
   "execution_count": 108,
   "metadata": {},
   "outputs": [
    {
     "data": {
      "text/html": [
       "<div>\n",
       "<style scoped>\n",
       "    .dataframe tbody tr th:only-of-type {\n",
       "        vertical-align: middle;\n",
       "    }\n",
       "\n",
       "    .dataframe tbody tr th {\n",
       "        vertical-align: top;\n",
       "    }\n",
       "\n",
       "    .dataframe thead th {\n",
       "        text-align: right;\n",
       "    }\n",
       "</style>\n",
       "<table border=\"1\" class=\"dataframe\">\n",
       "  <thead>\n",
       "    <tr style=\"text-align: right;\">\n",
       "      <th></th>\n",
       "      <th>Date</th>\n",
       "      <th>Revenue ($)</th>\n",
       "    </tr>\n",
       "  </thead>\n",
       "  <tbody>\n",
       "    <tr>\n",
       "      <th>0</th>\n",
       "      <td>01.03.2018</td>\n",
       "      <td>7878261.0</td>\n",
       "    </tr>\n",
       "    <tr>\n",
       "      <th>1</th>\n",
       "      <td>02.03.2018</td>\n",
       "      <td>7995176.0</td>\n",
       "    </tr>\n",
       "    <tr>\n",
       "      <th>2</th>\n",
       "      <td>03.03.2018</td>\n",
       "      <td>9887822.0</td>\n",
       "    </tr>\n",
       "    <tr>\n",
       "      <th>3</th>\n",
       "      <td>04.03.2018</td>\n",
       "      <td>10067265.0</td>\n",
       "    </tr>\n",
       "    <tr>\n",
       "      <th>4</th>\n",
       "      <td>05.03.2018</td>\n",
       "      <td>9018922.0</td>\n",
       "    </tr>\n",
       "    <tr>\n",
       "      <th>...</th>\n",
       "      <td>...</td>\n",
       "      <td>...</td>\n",
       "    </tr>\n",
       "    <tr>\n",
       "      <th>241</th>\n",
       "      <td>28.10.2018</td>\n",
       "      <td>6911239.0</td>\n",
       "    </tr>\n",
       "    <tr>\n",
       "      <th>242</th>\n",
       "      <td>29.10.2018</td>\n",
       "      <td>6971250.0</td>\n",
       "    </tr>\n",
       "    <tr>\n",
       "      <th>243</th>\n",
       "      <td>30.10.2018</td>\n",
       "      <td>6870345.0</td>\n",
       "    </tr>\n",
       "    <tr>\n",
       "      <th>244</th>\n",
       "      <td>31.10.2018</td>\n",
       "      <td>7780850.0</td>\n",
       "    </tr>\n",
       "    <tr>\n",
       "      <th>245</th>\n",
       "      <td>0</td>\n",
       "      <td>0.0</td>\n",
       "    </tr>\n",
       "  </tbody>\n",
       "</table>\n",
       "<p>246 rows × 2 columns</p>\n",
       "</div>"
      ],
      "text/plain": [
       "           Date  Revenue ($)\n",
       "0    01.03.2018    7878261.0\n",
       "1    02.03.2018    7995176.0\n",
       "2    03.03.2018    9887822.0\n",
       "3    04.03.2018   10067265.0\n",
       "4    05.03.2018    9018922.0\n",
       "..          ...          ...\n",
       "241  28.10.2018    6911239.0\n",
       "242  29.10.2018    6971250.0\n",
       "243  30.10.2018    6870345.0\n",
       "244  31.10.2018    7780850.0\n",
       "245           0          0.0\n",
       "\n",
       "[246 rows x 2 columns]"
      ]
     },
     "execution_count": 108,
     "metadata": {},
     "output_type": "execute_result"
    }
   ],
   "source": [
    "data_for_task_1.fillna(0)"
   ]
  },
  {
   "cell_type": "code",
   "execution_count": 109,
   "metadata": {},
   "outputs": [
    {
     "data": {
      "text/plain": [
       "1978644.0"
      ]
     },
     "execution_count": 109,
     "metadata": {},
     "output_type": "execute_result"
    }
   ],
   "source": [
    "min(data_for_task_1['Revenue ($)'])"
   ]
  },
  {
   "cell_type": "code",
   "execution_count": 110,
   "metadata": {},
   "outputs": [
    {
     "data": {
      "text/plain": [
       "15246113.0"
      ]
     },
     "execution_count": 110,
     "metadata": {},
     "output_type": "execute_result"
    }
   ],
   "source": [
    "max(data_for_task_1['Revenue ($)'])"
   ]
  },
  {
   "cell_type": "code",
   "execution_count": 111,
   "metadata": {},
   "outputs": [
    {
     "data": {
      "text/plain": [
       "Date            object\n",
       "Revenue ($)    float64\n",
       "dtype: object"
      ]
     },
     "execution_count": 111,
     "metadata": {},
     "output_type": "execute_result"
    }
   ],
   "source": [
    "data_for_task_1.dtypes"
   ]
  },
  {
   "cell_type": "markdown",
   "metadata": {},
   "source": [
    "### 2.3. Приводим данные о дате к нужному формату"
   ]
  },
  {
   "cell_type": "code",
   "execution_count": 112,
   "metadata": {},
   "outputs": [
    {
     "data": {
      "text/plain": [
       "3"
      ]
     },
     "execution_count": 112,
     "metadata": {},
     "output_type": "execute_result"
    }
   ],
   "source": [
    "data_for_task_1['Date'] = pd.to_datetime(data_for_task_1['Date'], format='%d.%m.%Y')\n",
    "data_for_task_1['Date'][0].month"
   ]
  },
  {
   "cell_type": "code",
   "execution_count": 113,
   "metadata": {},
   "outputs": [
    {
     "data": {
      "text/plain": [
       "0     2018-03-01\n",
       "1     2018-03-02\n",
       "2     2018-03-03\n",
       "3     2018-03-04\n",
       "4     2018-03-05\n",
       "         ...    \n",
       "241   2018-10-28\n",
       "242   2018-10-29\n",
       "243   2018-10-30\n",
       "244   2018-10-31\n",
       "245          NaT\n",
       "Name: Date, Length: 246, dtype: datetime64[ns]"
      ]
     },
     "execution_count": 113,
     "metadata": {},
     "output_type": "execute_result"
    }
   ],
   "source": [
    "data_for_task_1['Date']"
   ]
  },
  {
   "cell_type": "code",
   "execution_count": 114,
   "metadata": {},
   "outputs": [
    {
     "data": {
      "text/plain": [
       "Date           datetime64[ns]\n",
       "Revenue ($)           float64\n",
       "dtype: object"
      ]
     },
     "execution_count": 114,
     "metadata": {},
     "output_type": "execute_result"
    }
   ],
   "source": [
    "# Теперь у даты формат datetime64\n",
    "data_for_task_1.dtypes"
   ]
  },
  {
   "cell_type": "code",
   "execution_count": 115,
   "metadata": {},
   "outputs": [
    {
     "data": {
      "text/plain": [
       "(246, 2)"
      ]
     },
     "execution_count": 115,
     "metadata": {},
     "output_type": "execute_result"
    }
   ],
   "source": [
    "data_for_task_1.shape"
   ]
  },
  {
   "cell_type": "markdown",
   "metadata": {},
   "source": [
    "## 3. Предварительная визуализация"
   ]
  },
  {
   "cell_type": "markdown",
   "metadata": {},
   "source": [
    "### 3.1. Визуализируем данные, чтобы увидеть общую картину"
   ]
  },
  {
   "cell_type": "code",
   "execution_count": 180,
   "metadata": {},
   "outputs": [
    {
     "data": {
      "image/png": "[encoded data removed]",
      "text/plain": [
       "<Figure size 1440x720 with 1 Axes>"
      ]
     },
     "metadata": {
      "needs_background": "light"
     },
     "output_type": "display_data"
    }
   ],
   "source": [
    "plt.subplots(figsize=(20, 10))\n",
    "plt.bar(data_for_task_1['Date'], data_for_task_1['Revenue ($)'])\n",
    "plt.xlabel('Дата', fontsize=14)\n",
    "plt.ylabel('Выручка, $', fontsize=14)\n",
    "plt.title('Ежедневная выручка с марта по октябрь 2018 года', fontsize=16)\n",
    "plt.show()"
   ]
  },
  {
   "cell_type": "markdown",
   "metadata": {},
   "source": [
    "### 3.2. Ищем даты, когда был рекорд по выручке.\n",
    "Как видим в октябре у нас случилось увеличение выручки. Скорее всего это было связано со скидкой. Но нужно проверить те ли это даты."
   ]
  },
  {
   "cell_type": "code",
   "execution_count": 182,
   "metadata": {},
   "outputs": [
    {
     "data": {
      "text/plain": [
       "[15246113.0, 14057614.0, 11473092.0, 10760312.0, 10271207.0]"
      ]
     },
     "execution_count": 182,
     "metadata": {},
     "output_type": "execute_result"
    }
   ],
   "source": [
    "sorted(data_for_task_1['Revenue ($)'], reverse=True)[:5]"
   ]
  },
  {
   "cell_type": "markdown",
   "metadata": {},
   "source": [
    "Проверим, в каких датах зафиксировали три рекордных значения выручки. Для этого отберем даты, когда выручка была больше 10,8 млн."
   ]
  },
  {
   "cell_type": "code",
   "execution_count": 118,
   "metadata": {},
   "outputs": [
    {
     "name": "stdout",
     "output_type": "stream",
     "text": [
      "2018-10-10 00:00:00\n",
      "2018-10-11 00:00:00\n",
      "2018-10-12 00:00:00\n"
     ]
    }
   ],
   "source": [
    "for i in range(len(data_for_task_1['Date'])):\n",
    "    if data_for_task_1['Revenue ($)'][i] > 10800000:\n",
    "        print(data_for_task_1['Date'][i])"
   ]
  },
  {
   "cell_type": "markdown",
   "metadata": {},
   "source": [
    "Да, это оказались даты продаж со скидкой. \n",
    "Тогда посмотрим, как же продается приложение в другие дни."
   ]
  },
  {
   "cell_type": "markdown",
   "metadata": {},
   "source": [
    "## 4. Определение выручки за день"
   ]
  },
  {
   "cell_type": "markdown",
   "metadata": {},
   "source": [
    "## 4.1. Выручка в разрезе месяца"
   ]
  },
  {
   "cell_type": "code",
   "execution_count": 142,
   "metadata": {},
   "outputs": [
    {
     "data": {
      "text/plain": [
       "{3: 0, 4: 0, 5: 0, 6: 0, 7: 0, 8: 0, 9: 0, 10: 0}"
      ]
     },
     "execution_count": 142,
     "metadata": {},
     "output_type": "execute_result"
    }
   ],
   "source": [
    "# Создадим словарь с номерами месяцев.\n",
    "revenue = {y: 0 for y in range(3,11)}\n",
    "revenue"
   ]
  },
  {
   "cell_type": "code",
   "execution_count": 143,
   "metadata": {},
   "outputs": [],
   "source": [
    "# Заполним его данными по выручке в разрезе месяца\n",
    "for key, value in revenue.items():\n",
    "    for i in range(len(data_for_task_1['Date'])):\n",
    "        if key == data_for_task_1['Date'][i].month:\n",
    "            value += data_for_task_1['Revenue ($)'][i]\n",
    "        revenue.update({key: value})"
   ]
  },
  {
   "cell_type": "code",
   "execution_count": 144,
   "metadata": {},
   "outputs": [
    {
     "data": {
      "text/plain": [
       "{3: 252387296.0,\n",
       " 4: 226048620.0,\n",
       " 5: 215189204.0,\n",
       " 6: 214310419.0,\n",
       " 7: 210591514.0,\n",
       " 8: 205150348.0,\n",
       " 9: 220116347.0,\n",
       " 10: 210071590.0}"
      ]
     },
     "execution_count": 144,
     "metadata": {},
     "output_type": "execute_result"
    }
   ],
   "source": [
    "# Покажем наш словарь с данными по выручке в разразе месяца\n",
    "revenue"
   ]
  },
  {
   "cell_type": "markdown",
   "metadata": {},
   "source": [
    "### 4.2. Количество дней в месяцах"
   ]
  },
  {
   "cell_type": "code",
   "execution_count": 145,
   "metadata": {},
   "outputs": [
    {
     "data": {
      "text/plain": [
       "{3: 0, 4: 0, 5: 0, 6: 0, 7: 0, 8: 0, 9: 0, 10: 0}"
      ]
     },
     "execution_count": 145,
     "metadata": {},
     "output_type": "execute_result"
    }
   ],
   "source": [
    "# Создадим словарь с номерами месяцев.\n",
    "day_in_month = {y: 0 for y in range(3,11)}\n",
    "day_in_month"
   ]
  },
  {
   "cell_type": "code",
   "execution_count": 146,
   "metadata": {},
   "outputs": [],
   "source": [
    "# Заполним его данными по дням в разрезе месяца\n",
    "for key, value in day_in_month.items():\n",
    "    for i in range(len(data_for_task_1['Date'])):\n",
    "        if key == data_for_task_1['Date'][i].month:\n",
    "            value = data_for_task_1['Date'][i].daysinmonth\n",
    "        day_in_month.update({key: value})"
   ]
  },
  {
   "cell_type": "code",
   "execution_count": 147,
   "metadata": {},
   "outputs": [
    {
     "data": {
      "text/plain": [
       "{3: 31, 4: 30, 5: 31, 6: 30, 7: 31, 8: 31, 9: 30, 10: 31}"
      ]
     },
     "execution_count": 147,
     "metadata": {},
     "output_type": "execute_result"
    }
   ],
   "source": [
    "# Покажем наш словарь с данными по дням в разразе месяца\n",
    "day_in_month"
   ]
  },
  {
   "cell_type": "markdown",
   "metadata": {},
   "source": [
    "### 4.3. Выручка за день в разрезе месяца"
   ]
  },
  {
   "cell_type": "code",
   "execution_count": 148,
   "metadata": {},
   "outputs": [
    {
     "data": {
      "text/plain": [
       "{3: 0, 4: 0, 5: 0, 6: 0, 7: 0, 8: 0, 9: 0, 10: 0}"
      ]
     },
     "execution_count": 148,
     "metadata": {},
     "output_type": "execute_result"
    }
   ],
   "source": [
    "# Создадим словарь с номерами месяцев.\n",
    "revenue_per_day = {y: 0 for y in range(3,11)}\n",
    "revenue_per_day"
   ]
  },
  {
   "cell_type": "code",
   "execution_count": 149,
   "metadata": {},
   "outputs": [],
   "source": [
    "# Заполним его данными на основе предидущих словарей\n",
    "for key, value in revenue_per_day.items():\n",
    "    if key in revenue and key in day_in_month:\n",
    "        value = revenue[key] / day_in_month[key]\n",
    "    revenue_per_day.update({key: int(value)})"
   ]
  },
  {
   "cell_type": "code",
   "execution_count": 150,
   "metadata": {},
   "outputs": [
    {
     "data": {
      "text/plain": [
       "{3: 8141525,\n",
       " 4: 7534954,\n",
       " 5: 6941587,\n",
       " 6: 7143680,\n",
       " 7: 6793274,\n",
       " 8: 6617753,\n",
       " 9: 7337211,\n",
       " 10: 6776502}"
      ]
     },
     "execution_count": 150,
     "metadata": {},
     "output_type": "execute_result"
    }
   ],
   "source": [
    "# Покажем наш словарь с данными по выручке за день в разразе месяца\n",
    "revenue_per_day"
   ]
  },
  {
   "cell_type": "markdown",
   "metadata": {},
   "source": [
    "## 5. Корректировка с учетом дней продажи со скидкой"
   ]
  },
  {
   "cell_type": "markdown",
   "metadata": {},
   "source": [
    "### 5.1. Визуализация ежедневной выручки в разрезе месяцев"
   ]
  },
  {
   "cell_type": "code",
   "execution_count": 177,
   "metadata": {},
   "outputs": [
    {
     "data": {
      "image/png": "[encoded data removed]",
      "text/plain": [
       "<Figure size 1440x720 with 1 Axes>"
      ]
     },
     "metadata": {
      "needs_background": "light"
     },
     "output_type": "display_data"
    }
   ],
   "source": [
    "plt.subplots(figsize=(20, 10))\n",
    "plt.bar(revenue_per_day.keys(), revenue_per_day.values())\n",
    "plt.xlabel('Номер месяца', fontsize=14)\n",
    "plt.ylabel('Выручка, $', fontsize=14)\n",
    "plt.title('Ежемесячная выручка с марта по октябрь 2018 года с учетом дней продажи со скидкой', fontsize=16)\n",
    "plt.show()"
   ]
  },
  {
   "cell_type": "markdown",
   "metadata": {},
   "source": [
    "Но в этом графике также есть данные о продажах со скидкой. Давайте уберем их."
   ]
  },
  {
   "cell_type": "markdown",
   "metadata": {},
   "source": [
    "## 5.2. Корректировка графика с учетом дней продаж со скидкой."
   ]
  },
  {
   "cell_type": "code",
   "execution_count": 152,
   "metadata": {},
   "outputs": [
    {
     "data": {
      "text/plain": [
       "40776819.0"
      ]
     },
     "execution_count": 152,
     "metadata": {},
     "output_type": "execute_result"
    }
   ],
   "source": [
    "# Вычислям общую суму продаж со скидкой.\n",
    "revenue_with_discount = 0\n",
    "\n",
    "for i in range(len(data_for_task_1['Date'])):\n",
    "    if data_for_task_1['Date'][i].month == 10:\n",
    "        if data_for_task_1['Date'][i].day > 9 and data_for_task_1['Date'][i].day < 13:\n",
    "            revenue_with_discount += data_for_task_1['Revenue ($)'][i]\n",
    "            \n",
    "revenue_with_discount"
   ]
  },
  {
   "cell_type": "code",
   "execution_count": 153,
   "metadata": {},
   "outputs": [
    {
     "data": {
      "text/plain": [
       "169294771"
      ]
     },
     "execution_count": 153,
     "metadata": {},
     "output_type": "execute_result"
    }
   ],
   "source": [
    "# Вычисляем общую суму продаж в октябре без скидки.\n",
    "revenue[10] = int(revenue[10] - revenue_with_discount)\n",
    "revenue[10]"
   ]
  },
  {
   "cell_type": "code",
   "execution_count": 154,
   "metadata": {},
   "outputs": [
    {
     "data": {
      "text/plain": [
       "6046241"
      ]
     },
     "execution_count": 154,
     "metadata": {},
     "output_type": "execute_result"
    }
   ],
   "source": [
    "# Вычислям дневную выручку в октябре, когда подписка продавалась по скидке.\n",
    "revenue_per_day[10] = int(revenue[10] / (day_in_month[10] - 3))\n",
    "revenue_per_day[10]"
   ]
  },
  {
   "cell_type": "code",
   "execution_count": 183,
   "metadata": {},
   "outputs": [
    {
     "data": {
      "image/png": "[encoded data removed]",
      "text/plain": [
       "<Figure size 1440x720 with 1 Axes>"
      ]
     },
     "metadata": {
      "needs_background": "light"
     },
     "output_type": "display_data"
    }
   ],
   "source": [
    "# Строим график выручки помесячно без учета продаж по скидке.\n",
    "plt.subplots(figsize=(20, 10))\n",
    "plt.bar(revenue_per_day.keys(), revenue_per_day.values())\n",
    "plt.xlabel('Номер месяца', fontsize=14)\n",
    "plt.ylabel('Выручка, $', fontsize=14)\n",
    "plt.title('Ежедневная выручка в разрезе месяцев с марта по октябрь 2018 года без учета дней продажи со скидкой', fontsize=16)\n",
    "plt.show()"
   ]
  },
  {
   "cell_type": "markdown",
   "metadata": {},
   "source": [
    "Таким образом, мы видим, что хоть продажи подписки со скидкой и принесли рекордные результаты по ежедневной выручке, ежедневная выручка в октябре за другие дни — худшая с марта."
   ]
  },
  {
   "cell_type": "code",
   "execution_count": null,
   "metadata": {},
   "outputs": [],
   "source": []
  }
 ],
 "metadata": {
  "kernelspec": {
   "display_name": "Python 3",
   "language": "python",
   "name": "python3"
  },
  "language_info": {
   "codemirror_mode": {
    "name": "ipython",
    "version": 3
   },
   "file_extension": ".py",
   "mimetype": "text/x-python",
   "name": "python",
   "nbconvert_exporter": "python",
   "pygments_lexer": "ipython3",
   "version": "3.7.6"
  }
 },
 "nbformat": 4,
 "nbformat_minor": 4
}
